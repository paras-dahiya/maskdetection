{
  "cells": [
    {
      "cell_type": "code",
      "source": [
        "from google.colab import drive\n",
        "drive.mount('/content/drive')"
      ],
      "metadata": {
        "colab": {
          "base_uri": "https://localhost:8080/"
        },
        "id": "b3hj1H6ypw0w",
        "outputId": "158279b3-2eaa-40eb-f484-acc7e943b2c4"
      },
      "execution_count": 8,
      "outputs": [
        {
          "output_type": "stream",
          "name": "stdout",
          "text": [
            "Mounted at /content/drive\n"
          ]
        }
      ]
    },
    {
      "cell_type": "code",
      "source": [
        "!pip install keras\n"
      ],
      "metadata": {
        "colab": {
          "base_uri": "https://localhost:8080/"
        },
        "id": "ojqbBZbdqT2t",
        "outputId": "e3cbb7fb-aaa8-4390-9d8a-48596e2078c1"
      },
      "execution_count": 3,
      "outputs": [
        {
          "output_type": "stream",
          "name": "stdout",
          "text": [
            "Looking in indexes: https://pypi.org/simple, https://us-python.pkg.dev/colab-wheels/public/simple/\n",
            "Requirement already satisfied: keras in /usr/local/lib/python3.7/dist-packages (2.8.0)\n"
          ]
        }
      ]
    },
    {
      "cell_type": "code",
      "source": [
        "import numpy as np\n",
        "import keras\n",
        "import keras.backend as k\n",
        "from keras.layers import Conv2D,MaxPooling2D,SpatialDropout2D,Flatten,Dropout,Dense\n",
        "from keras.models import Sequential,load_model\n",
        "from keras.preprocessing import image\n",
        "import cv2\n",
        "import datetime"
      ],
      "metadata": {
        "id": "H1CvoP8LqG-0"
      },
      "execution_count": 4,
      "outputs": []
    },
    {
      "cell_type": "code",
      "source": [
        "model=Sequential()\n",
        "model.add(Conv2D(32,(3,3),activation='relu',input_shape=(150,150,3)))\n",
        "model.add(MaxPooling2D() )\n",
        "model.add(Conv2D(32,(3,3),activation='relu'))\n",
        "model.add(MaxPooling2D() )\n",
        "model.add(Conv2D(32,(3,3),activation='relu'))\n",
        "model.add(MaxPooling2D() )\n",
        "model.add(Flatten())\n",
        "model.add(Dense(100,activation='relu'))\n",
        "model.add(Dense(1,activation='sigmoid'))"
      ],
      "metadata": {
        "id": "43K_PYa5qhR7"
      },
      "execution_count": 5,
      "outputs": []
    },
    {
      "cell_type": "code",
      "source": [
        "model.compile(optimizer='adam',loss='binary_crossentropy',metrics=['accuracy'])"
      ],
      "metadata": {
        "id": "0yFk_pNPqk5T"
      },
      "execution_count": 6,
      "outputs": []
    },
    {
      "cell_type": "code",
      "source": [
        "from keras.preprocessing.image import ImageDataGenerator"
      ],
      "metadata": {
        "id": "DWAtzycXqoHU"
      },
      "execution_count": 7,
      "outputs": []
    },
    {
      "cell_type": "code",
      "source": [
        "train_datagen = ImageDataGenerator(\n",
        "        rescale=1./255,\n",
        "        shear_range=0.2,\n",
        "        zoom_range=0.2,\n",
        "        horizontal_flip=True)\n",
        "\n",
        "test_datagen = ImageDataGenerator(rescale=1./255)\n",
        "\n",
        "training_set = train_datagen.flow_from_directory(\n",
        "        '/content/drive/MyDrive/dataset/train',\n",
        "        target_size=(150,150),\n",
        "        batch_size=16 ,\n",
        "        class_mode='binary')\n",
        "\n",
        "test_set = test_datagen.flow_from_directory(\n",
        "        '/content/drive/MyDrive/dataset/validation',\n",
        "        target_size=(150,150),\n",
        "        batch_size=16,\n",
        "        class_mode='binary')"
      ],
      "metadata": {
        "colab": {
          "base_uri": "https://localhost:8080/"
        },
        "id": "N_vbBE_jqq38",
        "outputId": "52da5e30-63fe-40d8-ef00-045fcc34b255"
      },
      "execution_count": 9,
      "outputs": [
        {
          "output_type": "stream",
          "name": "stdout",
          "text": [
            "Found 1315 images belonging to 2 classes.\n",
            "Found 194 images belonging to 2 classes.\n"
          ]
        }
      ]
    },
    {
      "cell_type": "code",
      "source": [
        "model_saved=model.fit(\n",
        "        training_set,\n",
        "        epochs=10,\n",
        "        validation_data=test_set,\n",
        "        )"
      ],
      "metadata": {
        "colab": {
          "base_uri": "https://localhost:8080/"
        },
        "id": "VrYVJHaPrX9o",
        "outputId": "574ed559-0e71-4ac8-eb79-d54ebe42ec6a"
      },
      "execution_count": 11,
      "outputs": [
        {
          "output_type": "stream",
          "name": "stdout",
          "text": [
            "83/83 [==============================] - 600s 7s/step - loss: 0.3331 - accuracy: 0.8373 - val_loss: 0.2086 - val_accuracy: 0.9330\n",
            "Epoch 2/10\n",
            "83/83 [==============================] - 14s 171ms/step - loss: 0.2020 - accuracy: 0.9247 - val_loss: 0.1294 - val_accuracy: 0.9639\n",
            "Epoch 3/10\n",
            "83/83 [==============================] - 14s 169ms/step - loss: 0.1185 - accuracy: 0.9582 - val_loss: 0.1932 - val_accuracy: 0.9433\n",
            "Epoch 4/10\n",
            "83/83 [==============================] - 14s 169ms/step - loss: 0.1112 - accuracy: 0.9567 - val_loss: 0.1182 - val_accuracy: 0.9639\n",
            "Epoch 5/10\n",
            "83/83 [==============================] - 14s 169ms/step - loss: 0.0889 - accuracy: 0.9681 - val_loss: 0.0826 - val_accuracy: 0.9742\n",
            "Epoch 6/10\n",
            "83/83 [==============================] - 14s 171ms/step - loss: 0.0798 - accuracy: 0.9734 - val_loss: 0.0885 - val_accuracy: 0.9794\n",
            "Epoch 7/10\n",
            "83/83 [==============================] - 14s 170ms/step - loss: 0.0598 - accuracy: 0.9764 - val_loss: 0.1014 - val_accuracy: 0.9845\n",
            "Epoch 8/10\n",
            "83/83 [==============================] - 14s 169ms/step - loss: 0.0378 - accuracy: 0.9871 - val_loss: 0.1195 - val_accuracy: 0.9691\n",
            "Epoch 9/10\n",
            "83/83 [==============================] - 14s 170ms/step - loss: 0.0584 - accuracy: 0.9749 - val_loss: 0.1389 - val_accuracy: 0.9536\n",
            "Epoch 10/10\n",
            "83/83 [==============================] - 15s 185ms/step - loss: 0.0427 - accuracy: 0.9840 - val_loss: 0.0802 - val_accuracy: 0.9742\n"
          ]
        }
      ]
    },
    {
      "cell_type": "code",
      "source": [
        "model.save('mymodel2.h5',model_saved)"
      ],
      "metadata": {
        "id": "xt1VeR3erbCN"
      },
      "execution_count": 12,
      "outputs": []
    },
    {
      "cell_type": "code",
      "source": [
        "mymodel=load_model('mymodel2.h5')\n",
        "test_image=image.load_img(r'/content/drive/MyDrive/dataset/train/with_mask/106.jpg',\n",
        "                          target_size=(150,150,3))\n",
        "test_image\n",
        "test_image=image.img_to_array(test_image)\n",
        "test_image=np.expand_dims(test_image,axis=0)\n",
        "mymodel.predict(test_image)[0][0]"
      ],
      "metadata": {
        "colab": {
          "base_uri": "https://localhost:8080/"
        },
        "id": "DwubxpQ8u46k",
        "outputId": "c05fdf60-58d1-4755-ee9a-0410f930e930"
      },
      "execution_count": 16,
      "outputs": [
        {
          "output_type": "execute_result",
          "data": {
            "text/plain": [
              "0.0"
            ]
          },
          "metadata": {},
          "execution_count": 16
        }
      ]
    },
    {
      "cell_type": "code",
      "source": [],
      "metadata": {
        "id": "b6-z7EkYvM4C"
      },
      "execution_count": null,
      "outputs": []
    }
  ],
  "metadata": {
    "colab": {
      "collapsed_sections": [],
      "name": "Welcome To Colaboratory",
      "provenance": []
    },
    "kernelspec": {
      "display_name": "Python 3",
      "name": "python3"
    },
    "accelerator": "GPU"
  },
  "nbformat": 4,
  "nbformat_minor": 0
}